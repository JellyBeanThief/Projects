{
 "cells": [
  {
   "cell_type": "code",
   "execution_count": 11,
   "id": "a87b29a5-67e6-496f-aa50-b56236a5a6f6",
   "metadata": {},
   "outputs": [
    {
     "name": "stdout",
     "output_type": "stream",
     "text": [
      "Hello World!\n"
     ]
    },
    {
     "data": {
      "text/plain": [
       "5"
      ]
     },
     "execution_count": 11,
     "metadata": {},
     "output_type": "execute_result"
    }
   ],
   "source": [
    "print('Hello World!')\n"
   ]
  },
  {
   "cell_type": "code",
   "execution_count": 19,
   "id": "20f2c283-1a82-46af-8792-c7ed949f1ba4",
   "metadata": {},
   "outputs": [
    {
     "name": "stdout",
     "output_type": "stream",
     "text": [
      "{'Column': 'col1', 'Number of Cards': 0, 'Cards Add Up To': 0, 'Column Has Ace': False}\n",
      "{'Column': 'col2', 'Number of Cards': 0, 'Cards Add Up To': 0, 'Column Has Ace': False}\n",
      "{'Column': 'col3', 'Number of Cards': 0, 'Cards Add Up To': 0, 'Column Has Ace': False}\n",
      "{'Column': 'col4', 'Number of Cards': 0, 'Cards Add Up To': 0, 'Column Has Ace': False}\n",
      "\n",
      "Adding Card Value 10\n",
      "{'Column': 'col1', 'Number of Cards': 1, 'Cards Add Up To': 10, 'Column Has Ace': False}\n",
      "{'Column': 'col2', 'Number of Cards': 0, 'Cards Add Up To': 0, 'Column Has Ace': False}\n",
      "{'Column': 'col3', 'Number of Cards': 0, 'Cards Add Up To': 0, 'Column Has Ace': False}\n",
      "{'Column': 'col4', 'Number of Cards': 0, 'Cards Add Up To': 0, 'Column Has Ace': False}\n"
     ]
    }
   ],
   "source": [
    "class Column(object):\n",
    "    def __init__(self, name, numCards=0, total=0, hasAce=False):\n",
    "        self.name = name\n",
    "        self.numCards = numCards\n",
    "        self.total = total\n",
    "        self.hasAce = hasAce\n",
    "\n",
    "    def addCard(self, value, isAce=False):\n",
    "        self.numCards += 1\n",
    "        self.total += value\n",
    "        self.hasAce = isAce\n",
    "\n",
    "    def resetColumn(self):\n",
    "        self.numCard = 0\n",
    "        self.total = 0\n",
    "        self.hasAce = False\n",
    "\n",
    "    def getCol(self):\n",
    "        return {'Column':self.name, 'Number of Cards':self.numCards, 'Cards Add Up To':self.total, 'Column Has Ace':self.hasAce}\n",
    "\n",
    "class Board(object):\n",
    "    def __init__(self, columns=[], score=0, lives=3):\n",
    "        self.columns = columns\n",
    "        self.score = score\n",
    "        self.lives = lives\n",
    "\n",
    "    def __repr__(self):\n",
    "        return 'Board State'\n",
    "\n",
    "    def resetBoard(self):\n",
    "        for col in columns:\n",
    "            col.resetColumn()\n",
    "        self.score = 0\n",
    "        self.lives = 3\n",
    "\n",
    "    def setupBoard(self):\n",
    "        col1 = Column('col1')\n",
    "        col2 = Column('col2')\n",
    "        col3 = Column('col3')\n",
    "        col4 = Column('col4')\n",
    "        self.columns = [col1, col2, col3, col4]\n",
    "\n",
    "    def printBoard(self):\n",
    "        for col in self.columns:\n",
    "            print({'Column':col.name, 'Number of Cards':col.numCards, 'Cards Add Up To':col.total, 'Column Has Ace':col.hasAce})\n",
    "\n",
    "\n",
    "board = Board()\n",
    "board.setupBoard()\n",
    "board.printBoard()\n",
    "\n",
    "print()\n",
    "print('Adding Card Value 10')\n",
    "board.columns[0].addCard(10)\n",
    "board.printBoard()"
   ]
  }
 ],
 "metadata": {
  "kernelspec": {
   "display_name": "Python 3 (ipykernel)",
   "language": "python",
   "name": "python3"
  },
  "language_info": {
   "codemirror_mode": {
    "name": "ipython",
    "version": 3
   },
   "file_extension": ".py",
   "mimetype": "text/x-python",
   "name": "python",
   "nbconvert_exporter": "python",
   "pygments_lexer": "ipython3",
   "version": "3.10.4"
  }
 },
 "nbformat": 4,
 "nbformat_minor": 5
}
